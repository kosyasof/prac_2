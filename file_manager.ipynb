{
 "cells": [
  {
   "cell_type": "code",
   "execution_count": 1,
   "id": "91513041",
   "metadata": {},
   "outputs": [],
   "source": [
    "import os\n",
    "import shutil as sh"
   ]
  },
  {
   "cell_type": "code",
   "execution_count": 28,
   "id": "bdbc30b6",
   "metadata": {},
   "outputs": [
    {
     "name": "stdout",
     "output_type": "stream",
     "text": [
      "Введите пользователя: Софья\n"
     ]
    }
   ],
   "source": [
    "def workplace():\n",
    "    user_name = input('Введите пользователя: ')\n",
    "    if os.path.isdir(os.path.expanduser('C:\\\\Users') + f'\\\\{user_name}'):\n",
    "        directory = os.path.expanduser('C:\\\\Users') + f'\\\\{user_name}'\n",
    "    else:\n",
    "        directory = os.path.expanduser('C:\\\\Users')\n",
    "        create_folder(user_name)\n",
    "        directory += f'\\\\{user_name}'\n",
    "    return directory\n",
    "\n",
    "workplace = workplace()\n",
    "\n",
    "def create_folder(folder_name):\n",
    "    try:\n",
    "        os.mkdir(workplace + f'\\\\{folder_name}')\n",
    "    except FileExistsError:\n",
    "        print('Папка с таким названием уже существует!')\n",
    "    \n",
    "\n",
    "def create_file(file_name, text=None):\n",
    "    text_file = open(workplace + f'\\\\{file_name}', \"w\", encoding='utf-8')\n",
    "    if text:\n",
    "        text_file.write(text)\n",
    "    print(f'файл {file_name}.txt создан')\n",
    "\n",
    "def rename_file(file1, file2):\n",
    "    try:\n",
    "        os.rename(workplace + f'\\\\{file1}', file2)\n",
    "    except FileNotFoundError:\n",
    "        print('Неверный путь к файлу!')\n",
    "        \n",
    "def get_data(file):\n",
    "    try:\n",
    "        if os.access(workplace + f'\\\\{file}', mode=2):\n",
    "            with open(workplace + f'\\\\{file}', 'r', encoding='utf-8') as f:\n",
    "                print(' '.join([x.strip('\\n') for x in f.readlines()]))\n",
    "            f.close()\n",
    "    except FileNotFoundError:\n",
    "        print('Неверный путь к файлу!')\n",
    "    \n",
    "    \n",
    "def replace_file(file_name, folder):  \n",
    "    try:\n",
    "        os.replace(workplace + f'\\\\{file_name}' + '.txt', workplace + f'\\\\{folder}' + f'\\\\{file_name}')\n",
    "    except FileNotFoundError:\n",
    "        print('Неверный путь к файлу!')   \n",
    "        \n",
    "def remove_folder_or_file(name):\n",
    "    if os.path.isdir(workplace + f'\\\\{name}'):\n",
    "        os.rmdir(workplace + f'\\\\{name}')\n",
    "    else:\n",
    "        os.remove(workplace + f'\\\\{name}')\n",
    "        \n",
    "def copy_file(file, dest):\n",
    "    try:\n",
    "            if os.path.isdir(workplace + f'\\\\{file_name}'):\n",
    "                sh.copytree(workplace + f'\\\\{file_name}' + '.txt', workplace + f'\\\\{folder}' + f'\\\\{file_name}')\n",
    "            else:\n",
    "                sh.copy(workplace + f'\\\\{file_name}' + '.txt', workplace + f'\\\\{folder}' + f'\\\\{file_name}')\n",
    "        except FileNotFoundError:\n",
    "            print('Неверный путь к файлу!') \n",
    "            \n",
    "def make_archive(archive_from, archive_to):\n",
    "        shutil.make_archive( workplace + f'\\\\{file_name}' + f'\\\\archive_from', workplace + f'\\\\{file_name}' + f'\\\\{archive_to}.zip')"
   ]
  },
  {
   "cell_type": "code",
   "execution_count": null,
   "id": "17cddfa7",
   "metadata": {},
   "outputs": [],
   "source": []
  }
 ],
 "metadata": {
  "kernelspec": {
   "display_name": "Python 3",
   "language": "python",
   "name": "python3"
  },
  "language_info": {
   "codemirror_mode": {
    "name": "ipython",
    "version": 3
   },
   "file_extension": ".py",
   "mimetype": "text/x-python",
   "name": "python",
   "nbconvert_exporter": "python",
   "pygments_lexer": "ipython3",
   "version": "3.8.8"
  }
 },
 "nbformat": 4,
 "nbformat_minor": 5
}
