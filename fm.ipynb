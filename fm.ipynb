{
 "cells": [
  {
   "cell_type": "code",
   "execution_count": 1,
   "id": "acb7f70b",
   "metadata": {},
   "outputs": [],
   "source": [
    "import os\n",
    "import shutil as sh"
   ]
  },
  {
   "cell_type": "code",
   "execution_count": 1,
   "id": "7de10ba2",
   "metadata": {},
   "outputs": [],
   "source": [
    "def workplace(user_name):\n",
    "    if os.path.isdir(os.path.expanduser('C:\\\\Users\\\\cosit') + f'\\\\{user_name}'):\n",
    "        directory = os.path.expanduser('C:\\\\Users\\\\cosit') + f'\\\\{user_name}'\n",
    "    else:\n",
    "        directory = os.path.expanduser('C:\\\\Users\\\\cosit' + f'\\\\{user_name}')\n",
    "        os.mkdir('C:\\\\Users\\\\cosit' + f'\\\\{user_name}')\n",
    "    return directory\n",
    "\n",
    "def create_folder(directory, folder_name):\n",
    "    try:\n",
    "        os.mkdir(directory + f'\\\\{folder_name}')\n",
    "    except FileExistsError:\n",
    "        print('Папка с таким названием уже существует!')\n",
    "    \n",
    "\n",
    "def create_file(directory, file_name, text=None):\n",
    "    text_file = open(directory + f'\\\\{file_name}', \"w\", encoding='utf-8')\n",
    "    if text:\n",
    "        text_file.write(text)\n",
    "    print(f'файл {file_name}.txt создан')\n",
    "\n",
    "def rename_file(directory, file1, file2):\n",
    "    try:\n",
    "        os.rename(directory + f'\\\\{file1}', file2)\n",
    "    except FileNotFoundError:\n",
    "        print('Неверный путь к файлу!')\n",
    "        \n",
    "def get_data(directory, file):\n",
    "    try:\n",
    "        if os.access(directory + f'\\\\{file}', mode=2):\n",
    "            with open(directory + f'\\\\{file}', 'r', encoding='utf-8') as f:\n",
    "                print(' '.join([x.strip('\\n') for x in f.readlines()]))\n",
    "            f.close()\n",
    "    except FileNotFoundError:\n",
    "        print('Неверный путь к файлу!')\n",
    "    \n",
    "    \n",
    "def replace_file(directory, file_name, folder):  \n",
    "    try:\n",
    "        os.replace(directory + f'\\\\{file_name}' + '.txt', directory + f'\\\\{folder}' + f'\\\\{file_name}')\n",
    "    except FileNotFoundError:\n",
    "        print('Неверный путь к файлу!')   \n",
    "        \n",
    "def remove_folder_or_file(directory, name):\n",
    "    if os.path.isdir(directory + f'\\\\{name}'):\n",
    "        os.rmdir(directory + f'\\\\{name}')\n",
    "    else:\n",
    "        os.remove(directory + f'\\\\{name}')\n",
    "        \n",
    "def copy_file(directory, file, dest):\n",
    "    try:\n",
    "            if os.path.isdir(directory + f'\\\\{file_name}'):\n",
    "                sh.copytree(directory + f'\\\\{file_name}' + '.txt', directory + f'\\\\{folder}' + f'\\\\{file_name}')\n",
    "            else:\n",
    "                sh.copy(directory + f'\\\\{file_name}' + '.txt', directory + f'\\\\{folder}' + f'\\\\{file_name}')\n",
    "    except FileNotFoundError:\n",
    "        print('Неверный путь к файлу!') \n",
    "            \n",
    "def make_archive(directory, archive_from, archive_to):\n",
    "        shutil.make_archive( directory + f'\\\\{file_name}' + f'\\\\archive_from', directory + f'\\\\{file_name}' + f'\\\\{archive_to}.zip')"
   ]
  },
  {
   "cell_type": "code",
   "execution_count": null,
   "id": "ce56577e",
   "metadata": {},
   "outputs": [],
   "source": []
  }
 ],
 "metadata": {
  "kernelspec": {
   "display_name": "Python 3 (ipykernel)",
   "language": "python",
   "name": "python3"
  },
  "language_info": {
   "codemirror_mode": {
    "name": "ipython",
    "version": 3
   },
   "file_extension": ".py",
   "mimetype": "text/x-python",
   "name": "python",
   "nbconvert_exporter": "python",
   "pygments_lexer": "ipython3",
   "version": "3.9.12"
  }
 },
 "nbformat": 4,
 "nbformat_minor": 5
}
