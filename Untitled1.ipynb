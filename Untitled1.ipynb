{
 "cells": [
  {
   "cell_type": "code",
   "execution_count": 17,
   "id": "19872ef8",
   "metadata": {},
   "outputs": [],
   "source": [
    "import keyring\n",
    "import time\n",
    "from fm import *"
   ]
  },
  {
   "cell_type": "code",
   "execution_count": 18,
   "id": "595797bf",
   "metadata": {},
   "outputs": [
    {
     "name": "stdout",
     "output_type": "stream",
     "text": [
      "Введите имя пользователя: Sofya\n",
      "Введите пароль: 123\n",
      "выберете команду create_file\n",
      "введите название файла file\n",
      "файл file.txt создан\n",
      "выберете команду stop\n",
      "Введите пароль: stop\n"
     ]
    }
   ],
   "source": [
    "service_id = '1'\n",
    "username = input('Введите имя пользователя: ')\n",
    "timeout = time.time() + 10\n",
    "\n",
    "while True:  #\n",
    "    if keyring.get_password(service_id, username) not in [False, None]:\n",
    "        passw = input('Введите пароль: ') #\n",
    "        if passw == 'stop' or time.time() > timeout: \n",
    "            break\n",
    "        if keyring.get_password(service_id, username) == passw:\n",
    "            directory = workplace(username)\n",
    "            s = 'выберете команду '\n",
    "            while True:\n",
    "                command = input(s)\n",
    "                if command == 'create_table':\n",
    "                    folder_name = input('введите название папки ')\n",
    "                    create_folder(directory, folder_name)\n",
    "                elif command == 'create_file':\n",
    "                    file_name = input('введите название файла ')\n",
    "                    create_file(directory, file_name)\n",
    "                elif command == 'rename_file':\n",
    "                    name = input('введите название файла, который хотите переименовать ')\n",
    "                    new_name = input('введите новое название файла ')\n",
    "                    rename_file(directory, name, new_name)\n",
    "                elif command == 'get_data':\n",
    "                    file_name = input('введите название файла')\n",
    "                    get_data(directory, file_name)\n",
    "                elif command == 'replace_file':\n",
    "                    path1 = input('введите название файла, который хотите переместить ')\n",
    "                    path2 = input('введите путь ')\n",
    "                    replace_file(directory, path1, path2)\n",
    "                elif command == 'remove_folder' or command == 'remove_file':\n",
    "                    name = input('введите название папки или файла который хотите удалить ')\n",
    "                    remove_folder_or_file(directory, name)\n",
    "                if command == 'stop' or time.time() > timeout:\n",
    "                    break\n",
    "        else:\n",
    "            print('пароль неверный')\n",
    "    else:\n",
    "        st = input('Пользователя нет в системе. Введите 1, чтобы зарегестрироваться. ')\n",
    "        if st == '1':\n",
    "            password = input('Придумайте пароль ')\n",
    "            keyring.set_password(service_id, username, password)"
   ]
  },
  {
   "cell_type": "code",
   "execution_count": null,
   "id": "46af4373",
   "metadata": {},
   "outputs": [],
   "source": []
  }
 ],
 "metadata": {
  "kernelspec": {
   "display_name": "Python 3 (ipykernel)",
   "language": "python",
   "name": "python3"
  },
  "language_info": {
   "codemirror_mode": {
    "name": "ipython",
    "version": 3
   },
   "file_extension": ".py",
   "mimetype": "text/x-python",
   "name": "python",
   "nbconvert_exporter": "python",
   "pygments_lexer": "ipython3",
   "version": "3.9.12"
  }
 },
 "nbformat": 4,
 "nbformat_minor": 5
}
